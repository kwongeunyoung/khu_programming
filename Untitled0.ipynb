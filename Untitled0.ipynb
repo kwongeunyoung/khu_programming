{
  "nbformat": 4,
  "nbformat_minor": 0,
  "metadata": {
    "colab": {
      "provenance": [],
      "authorship_tag": "ABX9TyNdw/S1x3gjVtRixbADgNVT",
      "include_colab_link": true
    },
    "kernelspec": {
      "name": "python3",
      "display_name": "Python 3"
    },
    "language_info": {
      "name": "python"
    }
  },
  "cells": [
    {
      "cell_type": "markdown",
      "metadata": {
        "id": "view-in-github",
        "colab_type": "text"
      },
      "source": [
        "<a href=\"https://colab.research.google.com/github/kwongeunyoung/khu_programming/blob/main/Untitled0.ipynb\" target=\"_parent\"><img src=\"https://colab.research.google.com/assets/colab-badge.svg\" alt=\"Open In Colab\"/></a>"
      ]
    },
    {
      "cell_type": "code",
      "execution_count": 3,
      "metadata": {
        "colab": {
          "base_uri": "https://localhost:8080/"
        },
        "id": "De3WCSbioynr",
        "outputId": "d384cf2e-3a54-427c-8784-b5fbbe0a480f"
      },
      "outputs": [
        {
          "output_type": "stream",
          "name": "stdout",
          "text": [
            "Enter a number: 0\n",
            "zero\n"
          ]
        }
      ],
      "source": [
        "x = int(input(\"Enter a number: \"))\n",
        "if x > 0:\n",
        "    print(\"positive number\")\n",
        "elif x < 0:\n",
        "    print(\"negative number\")\n",
        "else:\n",
        "    print(\"zero\")"
      ]
    },
    {
      "cell_type": "code",
      "source": [
        "age = int(input(\"enter your age\"))\n",
        "if age<18:\n",
        "    print(\"you are not eligible to vote.\")\n",
        "elif age >=18 and age<65:\n",
        "  print(\"you are eligible to vote.\")\n",
        "else:\n",
        "  print(\"you are eligible to vote, but not rquired to.\")"
      ],
      "metadata": {
        "colab": {
          "base_uri": "https://localhost:8080/"
        },
        "id": "124h0H6br_le",
        "outputId": "60213105-1223-4139-d2bf-707ba504c711"
      },
      "execution_count": 5,
      "outputs": [
        {
          "output_type": "stream",
          "name": "stdout",
          "text": [
            "enter your age65\n",
            "you are eligible to vote, but not rquired to.\n"
          ]
        }
      ]
    },
    {
      "cell_type": "code",
      "source": [
        "score = int(input(\"enter yout test score:\"))\n",
        "if score>=90:\n",
        "    print(\"you got an A!\")\n",
        "elif score>=80:\n",
        "    print(\"you got a B.\")\n",
        "elif score>=70:\n",
        "    print(\"you got a C.\")\n",
        "elif score>=60:\n",
        "    print(\"you got a D.\")\n",
        "else:\n",
        "    print(\"you failed the test\")"
      ],
      "metadata": {
        "colab": {
          "base_uri": "https://localhost:8080/"
        },
        "id": "QuVvkwv_sm13",
        "outputId": "34bb0991-1201-4b1b-9053-b774912bfc37"
      },
      "execution_count": 25,
      "outputs": [
        {
          "output_type": "stream",
          "name": "stdout",
          "text": [
            "enter yout test score:8\n",
            "you failed the test\n"
          ]
        }
      ]
    },
    {
      "cell_type": "code",
      "source": [
        "for i in range(2,10):\n",
        "  for j in range(1,10):\n",
        "    print(i*j, end=\" \")\n",
        "  print('')"
      ],
      "metadata": {
        "colab": {
          "base_uri": "https://localhost:8080/"
        },
        "id": "ggRFvqOxts5h",
        "outputId": "99426544-1a13-4af8-dcf9-8a6c68c4b7e7"
      },
      "execution_count": 22,
      "outputs": [
        {
          "output_type": "stream",
          "name": "stdout",
          "text": [
            "2 4 6 8 10 12 14 16 18 \n",
            "3 6 9 12 15 18 21 24 27 \n",
            "4 8 12 16 20 24 28 32 36 \n",
            "5 10 15 20 25 30 35 40 45 \n",
            "6 12 18 24 30 36 42 48 54 \n",
            "7 14 21 28 35 42 49 56 63 \n",
            "8 16 24 32 40 48 56 64 72 \n",
            "9 18 27 36 45 54 63 72 81 \n"
          ]
        }
      ]
    },
    {
      "cell_type": "code",
      "source": [
        "num = int(input(\"enter a number:\"))\n",
        "for i in range(1,10):\n",
        "  print(num, \"x\", i, \"=\", num*i)"
      ],
      "metadata": {
        "colab": {
          "base_uri": "https://localhost:8080/"
        },
        "id": "uzNtxwdHvbiC",
        "outputId": "aa8c53ee-0a13-4990-a74a-fe33dadcc3b1"
      },
      "execution_count": 36,
      "outputs": [
        {
          "output_type": "stream",
          "name": "stdout",
          "text": [
            "enter a number:9496\n",
            "9496 x 1 = 9496\n",
            "9496 x 2 = 18992\n",
            "9496 x 3 = 28488\n",
            "9496 x 4 = 37984\n",
            "9496 x 5 = 47480\n",
            "9496 x 6 = 56976\n",
            "9496 x 7 = 66472\n",
            "9496 x 8 = 75968\n",
            "9496 x 9 = 85464\n"
          ]
        }
      ]
    },
    {
      "cell_type": "code",
      "source": [
        "a=[1,2,3,4]\n",
        "result = [num*3 for num in a]\n",
        "print(result)"
      ],
      "metadata": {
        "colab": {
          "base_uri": "https://localhost:8080/"
        },
        "id": "_QNWY75cw4Hj",
        "outputId": "afb18e00-36c3-4526-a58a-07df42e71022"
      },
      "execution_count": 41,
      "outputs": [
        {
          "output_type": "stream",
          "name": "stdout",
          "text": [
            "[3, 6, 9, 12]\n"
          ]
        }
      ]
    },
    {
      "cell_type": "code",
      "source": [
        "numbers = [1,2,3,4,5]\n",
        "squared_numbers = [x**2 for x in numbers]\n",
        "print(squared_numbers)"
      ],
      "metadata": {
        "colab": {
          "base_uri": "https://localhost:8080/"
        },
        "id": "fM8Z34Uczk07",
        "outputId": "b47c9c59-d1e0-4f78-e4ea-c2afe6032f6d"
      },
      "execution_count": 43,
      "outputs": [
        {
          "output_type": "stream",
          "name": "stdout",
          "text": [
            "[1, 4, 9, 16, 25]\n"
          ]
        }
      ]
    },
    {
      "cell_type": "code",
      "source": [
        "numbers = [1,2,3,4,5]\n",
        "odd_numbers = [x for x in numbers if x % 2 !=0]\n",
        "print(odd_numbers)"
      ],
      "metadata": {
        "colab": {
          "base_uri": "https://localhost:8080/"
        },
        "id": "v4SiVNucz3oy",
        "outputId": "1fc49c49-c0a6-4afd-c9d7-a40237822e1c"
      },
      "execution_count": 49,
      "outputs": [
        {
          "output_type": "stream",
          "name": "stdout",
          "text": [
            "[1, 3, 5]\n"
          ]
        }
      ]
    },
    {
      "cell_type": "code",
      "source": [
        "names = ['Alice', 'Bob', 'Charlie']\n",
        "name_tuples = [(name, len(name)) for name in names]\n",
        "print(name_tuples)"
      ],
      "metadata": {
        "colab": {
          "base_uri": "https://localhost:8080/"
        },
        "id": "IcVm460e0fnc",
        "outputId": "1b952f51-59be-4072-9254-b9088ff62f3a"
      },
      "execution_count": 52,
      "outputs": [
        {
          "output_type": "stream",
          "name": "stdout",
          "text": [
            "[('Alice', 5), ('Bob', 3), ('Charlie', 7)]\n"
          ]
        }
      ]
    },
    {
      "cell_type": "code",
      "source": [
        "matrix = [[1,2,3],[4,5,6],[7,8,9]]\n",
        "flattened = [element for row in matrix for element in row]\n",
        "print(flattened)"
      ],
      "metadata": {
        "colab": {
          "base_uri": "https://localhost:8080/"
        },
        "id": "_-dKTxK807x5",
        "outputId": "a2d1b261-d10f-4b62-bee2-d0bd64fe440a"
      },
      "execution_count": 53,
      "outputs": [
        {
          "output_type": "stream",
          "name": "stdout",
          "text": [
            "[1, 2, 3, 4, 5, 6, 7, 8, 9]\n"
          ]
        }
      ]
    },
    {
      "cell_type": "code",
      "source": [
        "words = ['hello','world','python']\n",
        "upper_words = [word.upper() for word in words]\n",
        "print(upper_words)"
      ],
      "metadata": {
        "colab": {
          "base_uri": "https://localhost:8080/"
        },
        "id": "KZCWbAfP1QTx",
        "outputId": "23b6ff59-436b-47b3-e748-8d023d619887"
      },
      "execution_count": 54,
      "outputs": [
        {
          "output_type": "stream",
          "name": "stdout",
          "text": [
            "['HELLO', 'WORLD', 'PYTHON']\n"
          ]
        }
      ]
    },
    {
      "cell_type": "code",
      "source": [
        "result = [x*y for x in range(2,10) for y in range(1,10)]\n",
        "print(result)"
      ],
      "metadata": {
        "colab": {
          "base_uri": "https://localhost:8080/"
        },
        "id": "IBG5WQZF2EyZ",
        "outputId": "64dfa6e4-133b-440c-fcd4-127fadad9fd6"
      },
      "execution_count": 57,
      "outputs": [
        {
          "output_type": "stream",
          "name": "stdout",
          "text": [
            "[2, 4, 6, 8, 10, 12, 14, 16, 18, 3, 6, 9, 12, 15, 18, 21, 24, 27, 4, 8, 12, 16, 20, 24, 28, 32, 36, 5, 10, 15, 20, 25, 30, 35, 40, 45, 6, 12, 18, 24, 30, 36, 42, 48, 54, 7, 14, 21, 28, 35, 42, 49, 56, 63, 8, 16, 24, 32, 40, 48, 56, 64, 72, 9, 18, 27, 36, 45, 54, 63, 72, 81]\n"
          ]
        }
      ]
    },
    {
      "cell_type": "code",
      "source": [
        "coffee = 10\n",
        "money = 300\n",
        "while money:\n",
        "  print(\"돈을 받았으니 커피를 줍니다.\")\n",
        "  coffee = coffee -1\n",
        "  print(\"남은 커피의 양은 %d개 입니다.\" % coffee)\n",
        "  if coffee ==0:\n",
        "    print(\"커피가 다 떨어졌습니다. 판매를 중지 합니다.\")\n",
        "    break"
      ],
      "metadata": {
        "colab": {
          "base_uri": "https://localhost:8080/"
        },
        "id": "xI5CAwOx2kEa",
        "outputId": "94fe8216-f124-420d-fe49-f0799e381c0f"
      },
      "execution_count": 58,
      "outputs": [
        {
          "output_type": "stream",
          "name": "stdout",
          "text": [
            "돈을 받았으니 커피를 줍니다.\n",
            "남은 커피의 양은 9개 입니다.\n",
            "돈을 받았으니 커피를 줍니다.\n",
            "남은 커피의 양은 8개 입니다.\n",
            "돈을 받았으니 커피를 줍니다.\n",
            "남은 커피의 양은 7개 입니다.\n",
            "돈을 받았으니 커피를 줍니다.\n",
            "남은 커피의 양은 6개 입니다.\n",
            "돈을 받았으니 커피를 줍니다.\n",
            "남은 커피의 양은 5개 입니다.\n",
            "돈을 받았으니 커피를 줍니다.\n",
            "남은 커피의 양은 4개 입니다.\n",
            "돈을 받았으니 커피를 줍니다.\n",
            "남은 커피의 양은 3개 입니다.\n",
            "돈을 받았으니 커피를 줍니다.\n",
            "남은 커피의 양은 2개 입니다.\n",
            "돈을 받았으니 커피를 줍니다.\n",
            "남은 커피의 양은 1개 입니다.\n",
            "돈을 받았으니 커피를 줍니다.\n",
            "남은 커피의 양은 0개 입니다.\n",
            "커피가 다 떨어졌습니다. 판매를 중지 합니다.\n"
          ]
        }
      ]
    },
    {
      "cell_type": "code",
      "source": [
        "treeHit = 0\n",
        "while treeHit < 10:\n",
        "  treeHit = treeHit +1\n",
        "  print(\"나무를 %d번 찍었습니다.\"%treeHit)\n",
        "  if treeHit == 10:\n",
        "    print(\"나무 넘어갑니다.\")"
      ],
      "metadata": {
        "colab": {
          "base_uri": "https://localhost:8080/"
        },
        "id": "JBgIXgm538Iz",
        "outputId": "5f0be797-e08a-469f-a0d2-01f517b8f95f"
      },
      "execution_count": 59,
      "outputs": [
        {
          "output_type": "stream",
          "name": "stdout",
          "text": [
            "나무를 1번 찍었습니다.\n",
            "나무를 2번 찍었습니다.\n",
            "나무를 3번 찍었습니다.\n",
            "나무를 4번 찍었습니다.\n",
            "나무를 5번 찍었습니다.\n",
            "나무를 6번 찍었습니다.\n",
            "나무를 7번 찍었습니다.\n",
            "나무를 8번 찍었습니다.\n",
            "나무를 9번 찍었습니다.\n",
            "나무를 10번 찍었습니다.\n",
            "나무 넘어갑니다.\n"
          ]
        }
      ]
    },
    {
      "cell_type": "code",
      "source": [
        "a=0\n",
        "while a<10:\n",
        "  a = a+1\n",
        "  if a % 2 == 0 : continue\n",
        "  print(a)"
      ],
      "metadata": {
        "colab": {
          "base_uri": "https://localhost:8080/"
        },
        "id": "loGs0LuH4Wgy",
        "outputId": "504dc6bd-cc15-4763-fcc6-c3ef74a907b3"
      },
      "execution_count": 60,
      "outputs": [
        {
          "output_type": "stream",
          "name": "stdout",
          "text": [
            "1\n",
            "3\n",
            "5\n",
            "7\n",
            "9\n"
          ]
        }
      ]
    },
    {
      "cell_type": "code",
      "source": [
        "x=6\n",
        "if x>5:\n",
        "  pass\n",
        "else:\n",
        "  print(\"x is less than equal to 5\")"
      ],
      "metadata": {
        "id": "KOk4VW1y6Q2y"
      },
      "execution_count": 62,
      "outputs": []
    }
  ]
}